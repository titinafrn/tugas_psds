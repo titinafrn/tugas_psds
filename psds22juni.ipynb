{
  "nbformat": 4,
  "nbformat_minor": 0,
  "metadata": {
    "colab": {
      "provenance": []
    },
    "kernelspec": {
      "name": "python3",
      "display_name": "Python 3"
    },
    "language_info": {
      "name": "python"
    }
  },
  "cells": [
    {
      "cell_type": "code",
      "execution_count": null,
      "metadata": {
        "colab": {
          "base_uri": "https://localhost:8080/"
        },
        "id": "HcowttaZeODF",
        "outputId": "a9d9e6a6-8a02-4014-b2b2-5eb80e6b9565"
      },
      "outputs": [
        {
          "output_type": "stream",
          "name": "stdout",
          "text": [
            "<class 'list'>\n"
          ]
        }
      ],
      "source": [
        "#contoh list\n",
        "L1 = [1, 4, 2, 13]\n",
        "\n",
        "print(type(L1))"
      ]
    },
    {
      "cell_type": "code",
      "source": [
        "L2 = ['a', 'python', 3]\n",
        "print(type(L2))"
      ],
      "metadata": {
        "colab": {
          "base_uri": "https://localhost:8080/"
        },
        "id": "kYEEIl8QeRSm",
        "outputId": "c7b626be-6253-4694-e803-bfecf29b62da"
      },
      "execution_count": null,
      "outputs": [
        {
          "output_type": "stream",
          "name": "stdout",
          "text": [
            "<class 'list'>\n"
          ]
        }
      ]
    },
    {
      "cell_type": "code",
      "source": [
        "print(L1)\n",
        "print(L2)"
      ],
      "metadata": {
        "colab": {
          "base_uri": "https://localhost:8080/"
        },
        "id": "0zzuyZg17LOX",
        "outputId": "cb22d598-81c0-40c4-b91d-c577ab90e703"
      },
      "execution_count": null,
      "outputs": [
        {
          "output_type": "stream",
          "name": "stdout",
          "text": [
            "[1, 'dua', True, (2+3j), 'Lee Jeno']\n",
            "['a', 'python', 3]\n"
          ]
        }
      ]
    },
    {
      "cell_type": "code",
      "source": [
        "L1 = [1, \"dua\", True, 2+3j]\n",
        "L1.extend([\"Lee Jeno\"])\n",
        "print(L1)"
      ],
      "metadata": {
        "colab": {
          "base_uri": "https://localhost:8080/"
        },
        "id": "ZsBmGi6WeS0q",
        "outputId": "3516a468-3a87-45cb-956f-52827ee3af07"
      },
      "execution_count": null,
      "outputs": [
        {
          "output_type": "stream",
          "name": "stdout",
          "text": [
            "[1, 'dua', True, (2+3j), 'Lee Jeno']\n"
          ]
        }
      ]
    },
    {
      "cell_type": "code",
      "source": [
        "#sifat-sifat List\n",
        "\n",
        "#Terurut/Ordered\n",
        "print(\"Memanggil List L1 dengan indeks urutan:\", L1[0:3])\n",
        "\n",
        "#Bisa diganti/Mutable\n",
        "L1[1] = 2\n",
        "print(\"List L1 setelah diganti elemennya:\", L1)\n",
        "\n",
        "L1 = [1, \"dua\", True, 2+3j]\n",
        "\n",
        "#dapat diiindeks/Slicing\n",
        "print(\"Slicing List L1:\", L1[3])\n",
        "\n",
        "#dapat diijinkan duplikasi\n",
        "L1 = [1, \"dua\", True, 2+3j, 2+3j]\n",
        "print(\"duplikasi pada list L1:\", L1)\n",
        "\n",
        "#dapat mengubah data dengan mengganti elemen tertentu\n",
        "L1 = [1, \"dua\", True, 2+3j]\n",
        "L1[2] = 3\n",
        "print(\"Data setelah diubah:\", L1)\n",
        "\n",
        "#Dapat menambahkan elemen baru pada data\n",
        "L1 = [1, \"dua\", True, 2+3j]\n",
        "L1.append(20)\n",
        "print(\"data setelah ditambahkan elemennya:\", L1)\n",
        "\n",
        "#dapat menghapus elemen pada data (remove() = menghapus berdasarkan nama objek)\n",
        "L1 = [1, \"dua\", True, 2+3j]\n",
        "L1.remove(2+3j)\n",
        "print(\"Data setelah dihapus elemennya:\", L1)"
      ],
      "metadata": {
        "colab": {
          "base_uri": "https://localhost:8080/"
        },
        "id": "PygEFgaV7mXz",
        "outputId": "096caa5d-edab-49bf-eed9-65760fa06d61"
      },
      "execution_count": null,
      "outputs": [
        {
          "output_type": "stream",
          "name": "stdout",
          "text": [
            "Memanggil List L1 dengan indeks urutan: [1, 'dua', True]\n",
            "List L1 setelah diganti elemennya: [1, 2, True, (2+3j), 'L', 'e', 'e', ' ', 'J', 'e', 'n', 'o']\n",
            "Slicing List L1: (2+3j)\n",
            "duplikasi pada list L1: [1, 'dua', True, (2+3j), (2+3j)]\n",
            "Data setelah diubah: [1, 'dua', 3, (2+3j)]\n",
            "data setelah ditambahkan elemennya: [1, 'dua', True, (2+3j), 20]\n",
            "Data setelah dihapus elemennya: [1, 'dua', True]\n"
          ]
        }
      ]
    },
    {
      "cell_type": "code",
      "source": [
        "#menambahkan data menggunakan fungsi extend (menambahkan elemen baru pada list namun elemen tersebut ditambahkan secara individual)\n",
        "\n",
        "L1 = [1, \"dua\", True, 2+3j]\n",
        "L1.extend(\"Lee Jeno\")\n",
        "print(L1)"
      ],
      "metadata": {
        "colab": {
          "base_uri": "https://localhost:8080/"
        },
        "id": "rKxSffKW-LUv",
        "outputId": "224cb787-370c-4da7-a4a4-29c72ba8a291"
      },
      "execution_count": null,
      "outputs": [
        {
          "output_type": "stream",
          "name": "stdout",
          "text": [
            "[1, 'dua', True, (2+3j), 'L', 'e', 'e', ' ', 'J', 'e', 'n', 'o']\n"
          ]
        }
      ]
    },
    {
      "cell_type": "code",
      "source": [
        "L1 = [1, \"dua\", True, 2+3j]\n",
        "L1.extend([\"Lee Jeno\"])\n",
        "print(L1)"
      ],
      "metadata": {
        "colab": {
          "base_uri": "https://localhost:8080/"
        },
        "id": "P_FNY6Al-jQy",
        "outputId": "0acaa054-2ccb-41c8-cdaf-588230525245"
      },
      "execution_count": null,
      "outputs": [
        {
          "output_type": "stream",
          "name": "stdout",
          "text": [
            "[1, 'dua', True, (2+3j), 'Lee Jeno']\n"
          ]
        }
      ]
    },
    {
      "cell_type": "code",
      "source": [
        "#menambahkan data dengan fungsi insert (menambahkan elemen baru di List pada indeks tertentu)\n",
        "L1 = [1, \"dua\", True, 2+3j]\n",
        "L1.insert(4,7)\n",
        "print(L1)"
      ],
      "metadata": {
        "colab": {
          "base_uri": "https://localhost:8080/"
        },
        "id": "kt1R97BReUxt",
        "outputId": "2c1b23c7-8bda-4d35-cade-9aeed8d3ddf9"
      },
      "execution_count": null,
      "outputs": [
        {
          "output_type": "stream",
          "name": "stdout",
          "text": [
            "[1, 'dua', True, (2+3j), 7]\n"
          ]
        }
      ]
    },
    {
      "cell_type": "code",
      "source": [
        "#menghapus elemen dari list menggunakan fungsi pop (menghapus berdasarkan indeks)\n",
        "L1 = [1, \"dua\", True, 2+3j]\n",
        "L1.pop(0)\n",
        "print(L1)"
      ],
      "metadata": {
        "colab": {
          "base_uri": "https://localhost:8080/"
        },
        "id": "HZcDehXLeahV",
        "outputId": "e742d565-7df9-4fa9-b99d-ee52bd47dff7"
      },
      "execution_count": null,
      "outputs": [
        {
          "output_type": "stream",
          "name": "stdout",
          "text": [
            "['dua', True, (2+3j)]\n"
          ]
        }
      ]
    },
    {
      "cell_type": "code",
      "source": [
        "L1 = [1, \"dua\", True, 2+3j]\n",
        "L1.pop()\n",
        "print(L1)"
      ],
      "metadata": {
        "colab": {
          "base_uri": "https://localhost:8080/"
        },
        "id": "XW4v-9Sqedmr",
        "outputId": "1d530a11-adf8-4dbb-b495-7e40a90b84d9"
      },
      "execution_count": null,
      "outputs": [
        {
          "output_type": "stream",
          "name": "stdout",
          "text": [
            "[1, 'dua', True]\n"
          ]
        }
      ]
    },
    {
      "cell_type": "markdown",
      "source": [
        "**Latihan**"
      ],
      "metadata": {
        "id": "oa1PolHQB0nN"
      }
    },
    {
      "cell_type": "markdown",
      "source": [
        "**1. Buatlah list kalian sendiri**"
      ],
      "metadata": {
        "id": "SVW9PF7JE1He"
      }
    },
    {
      "cell_type": "code",
      "source": [
        "#1. Buatlah list kalian sendiri\n",
        "\n",
        "L3 = [1, \"satu\", True, 3+5j]\n",
        "print(L3)"
      ],
      "metadata": {
        "colab": {
          "base_uri": "https://localhost:8080/"
        },
        "id": "fBOtR3pWBsyH",
        "outputId": "7cfd4497-1ccd-4f14-ab51-411474ecd16d"
      },
      "execution_count": null,
      "outputs": [
        {
          "output_type": "stream",
          "name": "stdout",
          "text": [
            "[1, 'satu', True, (3+5j)]\n"
          ]
        }
      ]
    },
    {
      "cell_type": "markdown",
      "source": [
        "**2. Ganti elemen yang ada pada list yang kalian buat**"
      ],
      "metadata": {
        "id": "CfyVOwUAEw6O"
      }
    },
    {
      "cell_type": "code",
      "source": [
        "#sifat-sifat list\n",
        "print(\"Memanggil List L3 dengan indeks urutan:\", L3[0:3])\n",
        "\n",
        "L3[1] = 2\n",
        "print(\"List L3 setelah diganti elemennya:\", L1)\n",
        "\n",
        "L3 = [1, \"satu\", True, 3+5j]\n",
        "\n",
        "print(\"Slicing List L3:\", L3[3])\n",
        "\n",
        "L3 = [1, \"satu\", True, 3+5j]\n",
        "print(\"duplikasi pada list L3:\", L3)\n",
        "\n",
        "L3 = [1, \"satu\", True, 3+5j]\n",
        "L3[2] = 3\n",
        "print(\"Data setelah diubah:\", L3)\n",
        "\n",
        "L3 = [1, \"satu\", True, 3+5j]\n",
        "L3.append(10)\n",
        "print(\"data setelah ditambahkan elemennya:\", L3)\n",
        "\n",
        "L3 = [1, \"satu\", True, 3+5j]\n",
        "L3.remove(3+5j)\n",
        "print(\"Data setelah dihapus elemennya:\", L3)"
      ],
      "metadata": {
        "colab": {
          "base_uri": "https://localhost:8080/"
        },
        "id": "Oy6mjzkjDUxh",
        "outputId": "825eb62e-7be0-497e-ab5f-b1d33da7f781"
      },
      "execution_count": null,
      "outputs": [
        {
          "output_type": "stream",
          "name": "stdout",
          "text": [
            "Memanggil List L3 dengan indeks urutan: [1, 'satu', True]\n",
            "List L3 setelah diganti elemennya: [1, 'dua', True]\n",
            "Slicing List L3: (3+5j)\n",
            "duplikasi pada list L3: [1, 'satu', True, (3+5j)]\n",
            "Data setelah diubah: [1, 'satu', 3, (3+5j)]\n",
            "data setelah ditambahkan elemennya: [1, 'satu', True, (3+5j), 10]\n",
            "Data setelah dihapus elemennya: [1, 'satu', True]\n"
          ]
        }
      ]
    },
    {
      "cell_type": "code",
      "source": [
        "L3 = [1, \"satu\", True, 3+5j]\n",
        "L3.extend(\"Jeno\")\n",
        "print(L3)\n",
        "\n",
        "L3 = [1, \"satu\", True, 3+5j]\n",
        "L3.extend([\"Jeno\"])\n",
        "print(L3)\n",
        "\n",
        "L3 = [1, \"satu\", True, 3+5j]\n",
        "L3.insert(1,6)\n",
        "print(L3)\n",
        "\n",
        "L3 = [1, \"satu\", True, 3+5j]\n",
        "L3.pop(2)\n",
        "print(L3)"
      ],
      "metadata": {
        "colab": {
          "base_uri": "https://localhost:8080/"
        },
        "id": "8X-0o6LjCJZA",
        "outputId": "480c9251-96a0-4415-d5f9-e16607783da3"
      },
      "execution_count": null,
      "outputs": [
        {
          "output_type": "stream",
          "name": "stdout",
          "text": [
            "[1, 'satu', True, (3+5j), 'J', 'e', 'n', 'o']\n",
            "[1, 'satu', True, (3+5j), 'Jeno']\n",
            "[1, 6, 'satu', True, (3+5j)]\n",
            "[1, 'satu', (3+5j)]\n"
          ]
        }
      ]
    }
  ]
}